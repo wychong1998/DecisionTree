{
 "cells": [
  {
   "cell_type": "markdown",
   "id": "6ab19013",
   "metadata": {},
   "source": [
    "# 用决策树做已婚情况推断\n",
    " 对于该数据集我采用的模型是决策树模型。决策树模型的优点是计算复杂度不高，输出结果易于理解，对中间值的缺失不敏感，可以处理不相关特征数据。缺点是可能会产生过度匹配的问题。决策树模型是非常适合解决该问题的模型。\n",
    " ## 决策树模型的一般流程\n",
    "收集数据：数据已经直接给出\n",
    "准备数据：构造算法只适用于标称型数据，因此数值型数据必须离散化。\n",
    "分析数据：可以使用任何方法，构造完树以后，我们应该检查图形是否符合预期。\n",
    "训练算法：构造数的数据结构。\n",
    "测试算法：使用经验树计算错误概率\n",
    " ## 处理数据\n",
    " 给出数据的维度依次是CustomerID、ItemID、Sex、Age、Profession、CityType、YearsInCity、YearsInCity、Married、ItemCategory1、ItemCategory2、ItemCategory3、Amount，Married是目标数据，即要通过模型训练来判定的数据，Sex、Age、Profession、CityType、YearsInCity、YearsInCity是离散型数据，可以直接使用，ItemCategory1、ItemCategory2、ItemCategory3、Amount是数值型数据需要进行离散化处理。CustomerID、ItemID不适合使用。\n",
    " 商品分类 的离散化处理可以通过判定每个订单购买最多的商品类型来进行离散化处理，输出结果为商品类型['1','2','3']。Amount的离散化处理可以先用散点图看Amount的散点图分布情况然后选定一个大概的界限。"
   ]
  },
  {
   "cell_type": "code",
   "execution_count": 1,
   "id": "89ef8a47",
   "metadata": {},
   "outputs": [],
   "source": [
    "import pandas as pd\n",
    "import numpy as np\n",
    "from mxnet import autograd, gluon, nd\n",
    "data=pd.read_csv(\"H:\\sjwj\\cs.csv\",encoding='utf-8')"
   ]
  },
  {
   "cell_type": "markdown",
   "id": "da008ad5",
   "metadata": {},
   "source": [
    "选定训练集。先取得所有married值未缺失的数据项。以经验来看，['Sex','Age','Profession','CityType','YearsInCity']作为离散值属性看起来是对结果影响最大的，所以我首先选择的数据集包含这些维度作为训练集。"
   ]
  },
  {
   "cell_type": "code",
   "execution_count": 2,
   "id": "c33c7642",
   "metadata": {
    "scrolled": true
   },
   "outputs": [
    {
     "name": "stdout",
     "output_type": "stream",
     "text": [
      "['Sex', 'Age', 'Profession', 'CityType', 'YearsInCity']\n"
     ]
    }
   ],
   "source": [
    "\n",
    "data_train = pd.DataFrame(data[(data['Married'] == 0) | (data['Married'] == 1)]).values\n",
    "dataSet=data_train[:,2:8]\n",
    "labels=['Sex','Age','Profession','CityType','YearsInCity']\n",
    "print(labels)"
   ]
  },
  {
   "cell_type": "markdown",
   "id": "5a8735eb",
   "metadata": {},
   "source": [
    " ## 构建决策树\n",
    "使用ID3算法构建决策树\n",
    "第一步先计算信息熵，信息熵计算公式：\n",
    "$$H = -\\sum_{i=1}^n p\\left( x_i\\right ) \\log_2p\\left( x_i\\right ),$$\n",
    "其中$p\\left( x_i\\right )$是这个类型在总数据集中出现的概率\n",
    "接下来用信息熵去衡量数据集的无序程度："
   ]
  },
  {
   "cell_type": "code",
   "execution_count": 3,
   "id": "db39f95b",
   "metadata": {
    "scrolled": false
   },
   "outputs": [],
   "source": [
    "from math import log\n",
    "\n",
    "def calcShannonEnt(dataSet):\n",
    "    numEntries = len(dataSet)  \n",
    "    labelCounts = {}   \n",
    "    for featVec in dataSet:\n",
    "        currentLabel = featVec[-1] \n",
    "        if currentLabel not in labelCounts.keys(): labelCounts[currentLabel] = 0\n",
    "        labelCounts[currentLabel] += 1\n",
    "    shannonEnt = 0.0  \n",
    "    for key in labelCounts:\n",
    "        prob = float(labelCounts[key])/numEntries\n",
    "        shannonEnt -= prob * log(prob,2) \n",
    "    return shannonEnt"
   ]
  },
  {
   "cell_type": "markdown",
   "id": "d9fca0f9",
   "metadata": {},
   "source": [
    "遍历所有特征，对于特征A：\n",
    "计算特征A对数据集D的经验条件熵H(D|A)\n",
    "计算特征A的信息增益g(D,A)=H(D)-H(D|A)\n",
    "选择信息增益最大的特征作为当前分裂特征。先按照特征划分数据集："
   ]
  },
  {
   "cell_type": "code",
   "execution_count": 4,
   "id": "f6c6fd31",
   "metadata": {
    "scrolled": true
   },
   "outputs": [],
   "source": [
    "def splitDataSet(dataSet,axis,value):\n",
    "    retDataSet=[]\n",
    "    for featVec in dataSet:\n",
    "        if featVec[axis] == value:\n",
    "            featVec=list(featVec)\n",
    "            reducedFeatVec = featVec[:axis]\n",
    "            reducedFeatVec.extend(featVec[axis+1:])\n",
    "            retDataSet.append(reducedFeatVec)\n",
    "    return retDataSet"
   ]
  },
  {
   "cell_type": "markdown",
   "id": "dc1ec342",
   "metadata": {},
   "source": [
    "选择出信息增益最高的划分方式："
   ]
  },
  {
   "cell_type": "code",
   "execution_count": 5,
   "id": "e8caa4f0",
   "metadata": {},
   "outputs": [],
   "source": [
    "def chooseBestFeatureToSplit(dataSet):\n",
    "    numFeatures = len(dataSet[0]) - 1      \n",
    "    baseEntropy = calcShannonEnt(dataSet)  \n",
    "    bestInfoGain = 0.0; bestFeature = -1   \n",
    "    for i in range(numFeatures):        \n",
    "        featList = [example[i] for example in dataSet]\n",
    "        uniqueVals = set(featList)       \n",
    "        newEntropy = 0.0\n",
    "        for value in uniqueVals: \n",
    "            subDataSet = splitDataSet(dataSet, i, value)\n",
    "            prob = len(subDataSet)/float(len(dataSet))\n",
    "            newEntropy += prob * calcShannonEnt(subDataSet)\n",
    "        infoGain = baseEntropy - newEntropy     \n",
    "        if (infoGain > bestInfoGain):      \n",
    "            bestInfoGain = infoGain        \n",
    "            bestFeature = i\n",
    "    return bestFeature        "
   ]
  },
  {
   "cell_type": "markdown",
   "id": "f28ab829",
   "metadata": {},
   "source": [
    "## 递归构建决策树\n",
    "函数使用分类名称的列表，然后创创建键值为classList中唯一值得数据字典，字典对象存储了classList中每个类标签出现的频率，利用operator操作键值排序字典，返回出现次数最多的分类名称。"
   ]
  },
  {
   "cell_type": "code",
   "execution_count": 6,
   "id": "134ba482",
   "metadata": {},
   "outputs": [],
   "source": [
    "import operator\n",
    "def majorityCnt(classList):\n",
    "    classCount={}\n",
    "    for vote in classList:\n",
    "        if vote not in classCount.keys(): classCount[vote] = 0\n",
    "        classCount[vote] += 1\n",
    "    sortedClassCount = sorted(classCount.items(), key=operator.itemgetter(1), reverse=True)\n",
    "    return sortedClassCount[0][0]"
   ]
  },
  {
   "cell_type": "markdown",
   "id": "bae6f264",
   "metadata": {},
   "source": [
    "已经给出了从数据集构造决策树算法所需要的子功能模块，工作原理如下：\n",
    "得到原始数据集，然后基于最好的属性值划分数据集，由于特征值可能多于两个，因此可能存在大于两个分支的数据集划分。第一次划分之后，数据将被乡下传递到树分支的下一个节点，在这个节点上，可以再次划分数据。\n",
    "递归结束的条件是：程序遍历完所有划分数据集的属性，或者每个分支下的所有的实例都具有相同的分类。如果所有实例具有相同的分类，则得到一个叶子节点或者终止块。"
   ]
  },
  {
   "cell_type": "code",
   "execution_count": 7,
   "id": "3120a433",
   "metadata": {},
   "outputs": [],
   "source": [
    "def createTree(dataSet,labels):\n",
    "    classList = [example[-1] for example in dataSet]\n",
    "    if classList.count(classList[0]) == len(classList):\n",
    "        return classList[0]\n",
    "    if len(dataSet[0]) <= 1: \n",
    "        return majorityCnt(classList) \n",
    "    bestFeat = chooseBestFeatureToSplit(dataSet)\n",
    "    if bestFeat==-1:\n",
    "        return classList[0]\n",
    "    bestFeatLabel = labels[bestFeat]\n",
    "    myTree = {bestFeatLabel:{}} \n",
    "    del(labels[bestFeat]) \n",
    "    featValues = [example[bestFeat] for example in dataSet]\n",
    "    uniqueVals = set(featValues)\n",
    "    for value in uniqueVals:\n",
    "        subLabels = labels[:]\n",
    "        myTree[bestFeatLabel][value] = createTree(splitDataSet(dataSet, bestFeat, value),subLabels)\n",
    "    return myTree\n",
    "myTree=createTree(dataSet,labels)"
   ]
  },
  {
   "cell_type": "markdown",
   "id": "164313cd",
   "metadata": {},
   "source": [
    "完成训练后，用决策树执行分类"
   ]
  },
  {
   "cell_type": "code",
   "execution_count": 8,
   "id": "02eb6e09",
   "metadata": {},
   "outputs": [],
   "source": [
    "#使用决策树的分类函数\n",
    "def classify(inputTree,featLabels,testVec):\n",
    "    inputTree_keys = list(inputTree.keys())\n",
    "    firstStr = inputTree_keys[0]\n",
    "    secondDict = inputTree[firstStr]\n",
    "    featIndex = featLabels.index(firstStr)\n",
    "    try:\n",
    "        key = testVec[featIndex]\n",
    "        valueOfFeat = secondDict[key]\n",
    "    except:\n",
    "        return 0\n",
    "    if isinstance(valueOfFeat, dict): \n",
    "        classLabel = classify(valueOfFeat, featLabels, testVec)\n",
    "    else: classLabel = valueOfFeat\n",
    "    return classLabel"
   ]
  },
  {
   "attachments": {
    "image.png": {
     "image/png": "[encoded data removed]"
    }
   },
   "cell_type": "markdown",
   "id": "9d2e470e",
   "metadata": {},
   "source": [
    "## 模型评估\n",
    "采用f1score的模型评估法\n",
    "精确度：precision，正确预测为正的，占全部预测为正的比例，TP / (TP+FP)\n",
    "召回率：recall，正确预测为正的，占全部实际为正的比例，TP / (TP+FN)\n",
    "假设有一个大小为1000的带布尔标签数据集，里面的“真”样本只有100不到，剩下都是假样本。假设训练一个模型，不管输入什么数据，它只给出“假”的预测，那么正确率依旧是90%以上，很明显，这个时候准确率accuracy就失去它的作用。因此，查全率和查准率一般用在倾斜数据集的时候。\n",
    "Precision和Recall指标有的时候是矛盾的，F-Measure综合这二者指标的评估指标，用于综合反映整体的指标。F-Measure是Precision和Recall加权调和平均, a为权重因子，当a = 1时，F值变为最常见的F1了，代表精确率和召回率的权重一样(fl_score)\n",
    "![image.png](attachment:image.png)\n",
    "F1 值，也称为综合分类率：F1=2 * precision * recall/(precision+recall),为了综合多个类别的分类情况，评测系统整体性能，经常采用的还有微平均F1(micro-averaging)和宏平均F1(macro-averaging)两种指标。宏平均F1与微平均F1 是以两种不同的平均方式求的全局的F1指标。其中宏平均 F1 的计算方法先对每个类别单独计算F1值，再取这些F1值的算术平均值作为全局指标。而微平均F1的计算方法是先累加计算各个类别的a、b、c、d的值，再由这些值求出F1值。 由两种平均F1的计算方式不难看出，宏平均F1平等对待每一个类别，所以它的值主要受到稀有类别的影响，而微平均F1平等考虑文档集中的每一个文档，所以它的值受到常见类别的影响比较大。"
   ]
  },
  {
   "cell_type": "code",
   "execution_count": 9,
   "id": "cfdab904",
   "metadata": {
    "scrolled": true
   },
   "outputs": [
    {
     "name": "stdout",
     "output_type": "stream",
     "text": [
      "recall 0.6773,precision 0.7706, f1 score 0.7209\n"
     ]
    }
   ],
   "source": [
    "labels=['Sex','Age','Profession','CityType','YearsInCity']\n",
    "tp,fp,tn,fn=0,0,0,0\n",
    "recall,precision,f1_score=0,0,0\n",
    "for featVec in dataSet:\n",
    "    clf=classify(myTree,labels,featVec)\n",
    "    if clf==1 and featVec[-1]==1:\n",
    "        tp+=1\n",
    "    if clf==0 and featVec[-1]==0:\n",
    "        tn+=1\n",
    "    if clf==1 and featVec[-1]==0:\n",
    "        fp+=1\n",
    "    if clf==0 and featVec[-1]==1:\n",
    "        fn+=1\n",
    "precision=tp/(tp+fp)\n",
    "recall=tp/(tp+fn)\n",
    "f1_score=2 * precision * recall/(precision+recall)\n",
    "print('recall %.4f,precision %.4f, f1 score %.4f'%(recall,precision,f1_score))"
   ]
  }
 ],
 "metadata": {
  "kernelspec": {
   "display_name": "Python 3",
   "language": "python",
   "name": "python3"
  },
  "language_info": {
   "codemirror_mode": {
    "name": "ipython",
    "version": 3
   },
   "file_extension": ".py",
   "mimetype": "text/x-python",
   "name": "python",
   "nbconvert_exporter": "python",
   "pygments_lexer": "ipython3",
   "version": "3.6.13"
  }
 },
 "nbformat": 4,
 "nbformat_minor": 5
}
